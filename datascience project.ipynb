{
 "cells": [
  {
   "cell_type": "markdown",
   "metadata": {},
   "source": [
    "# no of fundings"
   ]
  },
  {
   "cell_type": "markdown",
   "metadata": {},
   "source": [
    "Check the trend of investments over the years. To check the trend, find -\n",
    "Total number of fundings done in each year.\n",
    "Plot a line graph between year and number of fundings. Take year on x-axis and number of fundings on y-axis.\n",
    "Print year-wise total number of fundings also. Print years in ascending order.\n",
    "Note :\n",
    "There is some error in the 'Date' feature. Make sure to handle that."
   ]
  },
  {
   "cell_type": "code",
   "execution_count": 2,
   "metadata": {},
   "outputs": [
    {
     "data": {
      "text/plain": [
       "<matplotlib.figure.Figure at 0x1eb0f8b77b8>"
      ]
     },
     "metadata": {},
     "output_type": "display_data"
    },
    {
     "name": "stdout",
     "output_type": "stream",
     "text": [
      "2015 936\n",
      "2016 993\n",
      "2017 443\n"
     ]
    }
   ],
   "source": [
    "import pandas as pd\n",
    "import numpy as np\n",
    "import matplotlib.pyplot as plt\n",
    "df_start=pd.read_csv('startup_funding.csv',encoding='utf-8')\n",
    "df_start['Date'].replace(\"12/05.2015\",\"12/05/2015\",inplace=True)\n",
    "df_start['Date'].replace(\"13/04.2015\",\"13/04/2015\",inplace=True)\n",
    "df_start['Date'].replace(\"15/01.2015\",\"15/01/2015\",inplace=True)\n",
    "df_start['Date'].replace(\"22/01//2015\",\"22/01/2015\",inplace=True)\n",
    "def convertDate(date):\n",
    "    return date.split('/')[-1]\n",
    "df_start['Year']=df_start['Date'].apply(convertDate)\n",
    "year_count=df_start['Year'].value_counts()\n",
    "\n",
    "year_fund=list(zip(year_count.index,year_count.values))\n",
    "\n",
    "year_fund=np.array(year_fund,dtype=int)\n",
    "year_fund=year_fund[year_fund[:,0].argsort()]\n",
    "\n",
    "year=year_fund[:,0]\n",
    "\n",
    "funding_round=year_fund[:,1]\n",
    "plt.plot(year,funding_round,marker = 'o')\n",
    "plt.xticks(year)\n",
    "plt.title('Year vs No. of Funding Round')\n",
    "plt.xlabel('Year')\n",
    "plt.ylabel('No. of Funding Round')\n",
    "plt.show()\n",
    "for i in range(len(year)):\n",
    "    print(year[i],funding_round[i])"
   ]
  },
  {
   "cell_type": "markdown",
   "metadata": {},
   "source": [
    "# top indian cities"
   ]
  },
  {
   "cell_type": "markdown",
   "metadata": {},
   "source": [
    "Find out which cities are generally chosen for starting a startup.\n",
    "Find top 10 Indian cities which have most number of startups ?\n",
    "Plot a pie chart and visualise it.\n",
    "Print the city name and number of startups in that city also.\n",
    "Note :\n",
    "Take city name \"Delhi\" as \"New Delhi\".\n",
    "Check the case-sensitiveness of cities also. That means - at some place, instead of \"Bangalore\", \"bangalore\" is given. Take city name as \"Bangalore\".\n",
    "For few startups multiple locations are given, one Indian and one Foreign. Count those startups in Indian startup also. Indian city name is first.\n",
    "Print the city in descending order with respect to the number of startups."
   ]
  },
  {
   "cell_type": "code",
   "execution_count": 3,
   "metadata": {},
   "outputs": [
    {
     "data": {
      "image/png": "[encoded data removed]",
      "text/plain": [
       "<matplotlib.figure.Figure at 0x1eb0f8b77f0>"
      ]
     },
     "metadata": {},
     "output_type": "display_data"
    },
    {
     "name": "stdout",
     "output_type": "stream",
     "text": [
      "Bangalore 635\n",
      "Mumbai 449\n",
      "New Delhi 389\n",
      "Gurgaon 241\n",
      "Pune 91\n",
      "Noida 79\n",
      "Hyderabad 77\n",
      "Chennai 67\n",
      "Ahmedabad 35\n",
      "Jaipur 25\n"
     ]
    }
   ],
   "source": [
    "import pandas as pd\n",
    "import matplotlib.pyplot as plt\n",
    "import numpy as np\n",
    "df_start=pd.read_csv('startup_funding.csv',encoding='utf-8')\n",
    "df_start['CityLocation'].dropna(inplace=True)\n",
    "def separateCity(city):\n",
    "    return city.split('/')[0].strip()\n",
    "df_start['CityLocation']=df_start['CityLocation'].apply(separateCity)\n",
    "df_start['CityLocation'].replace(\"Delhi\",\"New Delhi\",inplace=True)\n",
    "df_start['CityLocation'].replace(\"bangalore\",\"Bangalore\",inplace=True)\n",
    "\n",
    "city_count=df_start['CityLocation'].value_counts()[0:10]\n",
    "city=city_count.index\n",
    "numCity=city_count.values\n",
    "plt.pie(numCity,labels=city,autopct=\"%.2f%%\")\n",
    "plt.show()\n",
    "for i in range(len(city)):\n",
    "    print(city[i],numCity[i])"
   ]
  },
  {
   "cell_type": "markdown",
   "metadata": {},
   "source": [
    "# funding amount"
   ]
  },
  {
   "cell_type": "markdown",
   "metadata": {},
   "source": [
    "Problem Statement :\n",
    "Find out if cities play any role in receiving funding.\n",
    "Find top 10 Indian cities with most amount of fundings received. Find out percentage of funding each city has got (among top 10 Indian cities only).\n",
    "Print the city and percentage with 2 decimal place after rounding off.\n",
    "Note:\n",
    "Take city name \"Delhi\" as \"New Delhi\".\n",
    "Check the case-sensitiveness of cities also. That means - at some place, instead of \"Bangalore\", \"bangalore\" is given. Take city name as \"Bangalore\".\n",
    "For few startups multiple locations are given, one Indian and one Foreign. Count those startups in Indian startup also. Indian city name is first.\n",
    "Print the city in descending order with respect to the percentage of funding."
   ]
  },
  {
   "cell_type": "code",
   "execution_count": 4,
   "metadata": {},
   "outputs": [
    {
     "name": "stdout",
     "output_type": "stream",
     "text": [
      "Bangalore 49.71\n",
      "New Delhi 16.63\n",
      "Mumbai 13.90\n",
      "Gurgaon 12.21\n",
      "Chennai 2.43\n",
      "Pune 2.16\n",
      "Hyderabad 1.15\n",
      "Noida 1.01\n",
      "Ahmedabad 0.58\n",
      "Jaipur 0.21\n"
     ]
    }
   ],
   "source": [
    "# Open and read data file as specified in the question\n",
    "# Print the required output in given format\n",
    "import pandas as pd\n",
    "import numpy as np\n",
    "df_start=pd.read_csv('startup_funding.csv',encoding='utf-8')\n",
    "df_start['CityLocation'].dropna(inplace=True)\n",
    "def separateCity(city):\n",
    "    return city.split('/')[0].strip()\n",
    "df_start['CityLocation']=df_start['CityLocation'].apply(separateCity)\n",
    "df_start['CityLocation'].replace(\"Delhi\",\"New Delhi\",inplace=True)\n",
    "df_start['CityLocation'].replace(\"bangalore\",\"Bangalore\",inplace=True)\n",
    "## Converting \"AmountInUSD\" into numeric format\n",
    "df_start[\"AmountInUSD\"] = df_start[\"AmountInUSD\"].apply(lambda x: float(str(x).replace(\",\",\"\")))\n",
    "df_start[\"AmountInUSD\"] = pd.to_numeric(df_start[\"AmountInUSD\"])\n",
    "city_amount=df_start.groupby('CityLocation')['AmountInUSD'].sum().sort_values(ascending=False)[0:10]\n",
    "city=city_amount.index\n",
    "amountCity=city_amount.values\n",
    "perAmount=np.true_divide(amountCity, amountCity.sum())*100\n",
    "for i in range(len(city)):\n",
    "    print(city[i],format(perAmount[i],'.2f'))\n",
    "\n",
    "\n"
   ]
  },
  {
   "cell_type": "markdown",
   "metadata": {},
   "source": [
    "# investment type"
   ]
  },
  {
   "cell_type": "markdown",
   "metadata": {},
   "source": [
    "There are 4 different type of investments. Find out percentage of amount funded for each investment type.\n",
    "Plot a pie chart to visualise.\n",
    "Print the investment type and percentage of amount funded with 2 decimal places after rounding off.\n",
    "Note :\n",
    "Correct spelling of investment types are - \"Private Equity\", \"Seed Funding\", \"Debt Funding\", and \"Crowd Funding\". Keep an eye for any spelling mistake. You can find this by printing unique values from this column.\n",
    "Print the investment type in descending order with respect to the percentage of the amount funded.\n"
   ]
  },
  {
   "cell_type": "code",
   "execution_count": 6,
   "metadata": {},
   "outputs": [
    {
     "data": {
      "image/png": "[encoded data removed]",
      "text/plain": [
       "<matplotlib.figure.Figure at 0x1eb11676ef0>"
      ]
     },
     "metadata": {},
     "output_type": "display_data"
    },
    {
     "name": "stdout",
     "output_type": "stream",
     "text": [
      "Private Equity 98.15\n",
      "Seed Funding 1.81\n",
      "Debt Funding 0.04\n",
      "Crowd Funding 0.00\n"
     ]
    }
   ],
   "source": [
    "# Open and read data file as specified in the question\n",
    "# Print the required output in given format\n",
    "import pandas as pd\n",
    "import numpy as np\n",
    "import matplotlib.pyplot as plt\n",
    "import csv\n",
    "df=pd.read_csv(\"startup_funding.csv\", encoding='utf-8')\n",
    "df['InvestmentType'].replace(\"PrivateEquity\",\"Private Equity\",inplace=True)\n",
    "df['InvestmentType'].replace(\"SeedFunding\",\"Seed Funding\",inplace=True)\n",
    "df['InvestmentType'].replace(\"Crowd funding\",\"Crowd Funding\",inplace=True)\n",
    "\n",
    "df[\"AmountInUSD\"] = df[\"AmountInUSD\"].apply(lambda x: float(str(x).replace(\",\",\"\")))\n",
    "df[\"AmountInUSD\"] = pd.to_numeric(df[\"AmountInUSD\"])\n",
    "amount=df.groupby('InvestmentType')['AmountInUSD'].sum().sort_values(ascending=False)[::]\n",
    "type=amount.index\n",
    "invest=amount.values\n",
    "perAmount=np.true_divide(invest, invest.sum())*100\n",
    "plt.pie(perAmount, labels=type)\n",
    "plt.show()\n",
    "for i in range(len(type)):\n",
    "    print(type[i],format(perAmount[i],'.2f'))\n"
   ]
  },
  {
   "cell_type": "markdown",
   "metadata": {},
   "source": [
    "\n",
    "# top industries"
   ]
  },
  {
   "cell_type": "markdown",
   "metadata": {},
   "source": [
    "Problem Statement :\n",
    "Which type of companies got more easily funding. To answer this question, find -\n",
    "Top 5 industries and percentage of the total amount funded to that industry. (among top 5 only)\n",
    "Print the industry name and percentage of the amount funded with 2 decimal place after rounding off.\n",
    "Note :\n",
    "Ecommerce is the right word in IndustryVertical, so correct it.\n",
    "Print the industry in descending order with respect to the percentage of the amount funded."
   ]
  },
  {
   "cell_type": "code",
   "execution_count": 8,
   "metadata": {},
   "outputs": [
    {
     "name": "stdout",
     "output_type": "stream",
     "text": [
      "Ecommerce 40.53\n",
      "Consumer Internet 35.95\n",
      "Technology 10.45\n",
      "Online Marketplace 6.63\n",
      "E-Commerce & M-Commerce platform 6.44\n"
     ]
    }
   ],
   "source": [
    "import pandas as pd\n",
    "import numpy as np\n",
    "df=pd.read_csv('startup_funding.csv',encoding='utf-8')\n",
    "df['IndustryVertical'].replace(\"eCommerce\",\"ECommerce\",inplace=True)\n",
    "df['IndustryVertical'].replace('ECommerce','Ecommerce',inplace=True)\n",
    "df['IndustryVertical'].replace('ecommerce','Ecommerce',inplace=True)\n",
    "\n",
    "\n",
    "## Converting \"AmountInUSD\" into numeric format\n",
    "df[\"AmountInUSD\"] = df[\"AmountInUSD\"].apply(lambda x: float(str(x).replace(\",\",\"\")))\n",
    "df[\"AmountInUSD\"] = pd.to_numeric(df[\"AmountInUSD\"])\n",
    "amount=df.groupby('IndustryVertical')['AmountInUSD'].sum().sort_values(ascending=False)[0:5]\n",
    "industry=amount.index\n",
    "amountCity=amount.values\n",
    "perAmount=np.true_divide(amount, amount.sum())*100\n",
    "for i in range(5):\n",
    "    print(industry[i],format(perAmount[i],'.2f'))"
   ]
  },
  {
   "cell_type": "markdown",
   "metadata": {},
   "source": [
    "# top startups"
   ]
  },
  {
   "cell_type": "markdown",
   "metadata": {},
   "source": [
    "Find top 5 startups with most amount of total funding.\n",
    "Print the startup name in descending order with respect to amount of funding.\n",
    "Note:\n",
    "Ola, Flipkart, Oyo, Paytm are important startups, so correct their names. There are many errors in startup names, ignore correcting all, just handle important ones."
   ]
  },
  {
   "cell_type": "code",
   "execution_count": 9,
   "metadata": {},
   "outputs": [
    {
     "name": "stdout",
     "output_type": "stream",
     "text": [
      "Paytm\n",
      "Flipkart\n",
      "Ola\n",
      "Snapdeal\n",
      "Oyo\n"
     ]
    }
   ],
   "source": [
    "import pandas as pd\n",
    "import numpy as np\n",
    "df_start=pd.read_csv('startup_funding.csv',encoding='utf-8')\n",
    "df_start['StartupName'].replace('Olacabs','Ola',inplace=True)\n",
    "df_start['StartupName'].replace('Ola Cabs','Ola',inplace=True)\n",
    "df_start['StartupName'].replace('Flipkart.com','Flipkart',inplace=True)\n",
    "df_start['StartupName'].replace('Paytm Marketplace','Paytm',inplace=True)\n",
    "df_start['StartupName'].replace('Oyo Rooms','Oyo',inplace=True)\n",
    "df_start['StartupName'].replace('Oyorooms','Oyo',inplace=True)\n",
    "df_start['StartupName'].replace('OyoRooms','Oyo',inplace=True)\n",
    "df_start['StartupName'].replace('OYO Rooms','Oyo',inplace=True)\n",
    "## Converting \"AmountInUSD\" into numeric format\n",
    "df_start[\"AmountInUSD\"] = df_start[\"AmountInUSD\"].apply(lambda x: float(str(x).replace(\",\",\"\")))\n",
    "df_start[\"AmountInUSD\"] = pd.to_numeric(df_start[\"AmountInUSD\"])\n",
    "start_fund=df_start.groupby('StartupName')['AmountInUSD'].sum().sort_values(ascending=False)[0:5]\n",
    "startup=start_fund.index\n",
    "for i in startup:\n",
    "    print(i)"
   ]
  },
  {
   "cell_type": "markdown",
   "metadata": {},
   "source": [
    "# funding rounds"
   ]
  },
  {
   "cell_type": "markdown",
   "metadata": {},
   "source": [
    "Problem Statement :\n",
    "Find the top 5 startups who received the most number of funding rounds. That means, startups which got fundings maximum number of times.\n",
    "Print the startup name in descending order with respect to the number of funding round as integer value.\n",
    "Note:\n",
    "Ola, Flipkart, Oyo, Paytm are important startups, so correct their names. There are many errors in startup names, ignore correcting all, just handle important ones."
   ]
  },
  {
   "cell_type": "code",
   "execution_count": 10,
   "metadata": {},
   "outputs": [
    {
     "name": "stdout",
     "output_type": "stream",
     "text": [
      "Ola 9\n",
      "Swiggy 7\n",
      "UrbanClap 6\n",
      "Oyo 6\n",
      "Paytm 6\n"
     ]
    }
   ],
   "source": [
    "# Open and read data file as specified in the question\n",
    "# Print the required output in given formatimport pandas as pd\n",
    "import pandas as pd\n",
    "import numpy as np\n",
    "import csv\n",
    "df_start=pd.read_csv(\"startup_funding.csv\", encoding='utf-8')\n",
    "\n",
    "df_start['StartupName'].replace('Olacabs','Ola',inplace=True)\n",
    "df_start['StartupName'].replace('Ola Cabs','Ola',inplace=True)\n",
    "df_start['StartupName'].replace('Flipkart.com','Flipkart',inplace=True)\n",
    "df_start['StartupName'].replace('Paytm Marketplace','Paytm',inplace=True)\n",
    "df_start['StartupName'].replace('Oyo Rooms','Oyo',inplace=True)\n",
    "df_start['StartupName'].replace('Oyorooms','Oyo',inplace=True)\n",
    "df_start['StartupName'].replace('OyoRooms','Oyo',inplace=True)\n",
    "df_start['StartupName'].replace('OYO Rooms','Oyo',inplace=True)\n",
    "amount=df_start['StartupName'].value_counts()\n",
    "a=amount.index\n",
    "b=amount.values\n",
    "np_b=np.array(b)\n",
    "np_b=np.sort(b)[::-1]\n",
    "\n",
    "for i in range(5):\n",
    "    print(a[i],np_b[i])\n",
    "\n"
   ]
  },
  {
   "cell_type": "markdown",
   "metadata": {},
   "source": [
    "# top investors"
   ]
  },
  {
   "cell_type": "markdown",
   "metadata": {},
   "source": [
    "Problem Statement :\n",
    "Find the Investors who have invested maximum number of times.\n",
    "Print the investor name and number of times invested as integer value.\n",
    "Note:\n",
    "In startup, multiple investors might have invested. So consider each investor for that startup.\n",
    "Ignore the undisclosed investors."
   ]
  },
  {
   "cell_type": "code",
   "execution_count": 4,
   "metadata": {},
   "outputs": [
    {
     "name": "stdout",
     "output_type": "stream",
     "text": [
      "Sequoia Capital 64\n"
     ]
    }
   ],
   "source": [
    "import numpy as np\n",
    "import pandas as pd\n",
    "import csv\n",
    "import matplotlib.pyplot as plt\n",
    "df=pd.read_csv(r'startup_funding.csv')\n",
    "df.InvestorsName.fillna('',inplace=True)\n",
    "a=df.InvestorsName.str.split(',')\n",
    "a.fillna('nin',inplace=True)\n",
    "d={}\n",
    "for i in a:\n",
    "    for j in i:\n",
    "        d[j.strip()]=d.get(j.strip(),0)+1\n",
    "sr=pd.Series(d)\n",
    "sr['nin']=0\n",
    "sr.sort_values(ascending=False,inplace=True)\n",
    "for i in sr.index[:1]:\n",
    "    print(i,sr[i])"
   ]
  },
  {
   "cell_type": "code",
   "execution_count": null,
   "metadata": {},
   "outputs": [],
   "source": []
  }
 ],
 "metadata": {
  "kernelspec": {
   "display_name": "Python 3",
   "language": "python",
   "name": "python3"
  },
  "language_info": {
   "codemirror_mode": {
    "name": "ipython",
    "version": 3
   },
   "file_extension": ".py",
   "mimetype": "text/x-python",
   "name": "python",
   "nbconvert_exporter": "python",
   "pygments_lexer": "ipython3",
   "version": "3.6.4"
  }
 },
 "nbformat": 4,
 "nbformat_minor": 2
}
